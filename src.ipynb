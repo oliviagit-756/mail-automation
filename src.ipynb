{
 "cells": [
  {
   "cell_type": "code",
   "execution_count": null,
   "id": "5affff15",
   "metadata": {},
   "outputs": [],
   "source": [
    "import os, re, random, time, ssl, smtplib\n",
    "from email.message import EmailMessage\n",
    "from datetime import datetime, date, timezone\n",
    "from zoneinfo import ZoneInfo\n",
    "import mysql.connector\n",
    "from dotenv import load_dotenv, find_dotenv\n",
    "from openai import OpenAI\n",
    "from datetime import timedeltasffffv\n"
   ]
  },
  {
   "cell_type": "code",
   "execution_count": 2,
   "id": "a493ede6",
   "metadata": {},
   "outputs": [],
   "source": [
    "# -------------------- ENV & CONFIG --------------------\n",
    "load_dotenv(find_dotenv())\n",
    "\n",
    "# Toggle: start the minute-by-minute sender after inserting (False = just insert)\n",
    "RUN_SCHEDULER_AFTER_INSERT = False\n",
    "\n",
    "APP_TZ   = ZoneInfo(os.getenv(\"APP_TZ\", \"Asia/Kolkata\"))\n",
    "\n",
    "DB = dict(\n",
    "    host=os.getenv(\"DB_HOST\", \"127.0.0.1\"),\n",
    "    port=int(os.getenv(\"DB_PORT\", \"3307\")),   # change to 3307 if your server uses that\n",
    "    user=os.getenv(\"DB_USER\", \"reminder_app\"),\n",
    "    password=os.getenv(\"DB_PASS\", \"App#Pass123!\"),\n",
    "    database=os.getenv(\"DB_NAME\", \"reminder_app\"),\n",
    ")\n",
    "\n",
    "SMTP_HOST = os.getenv(\"SMTP_HOST\", \"smtp.gmail.com\")\n",
    "SMTP_PORT = int(os.getenv(\"SMTP_PORT\", \"587\"))   # 587 (STARTTLS) or 465 (SSL)\n",
    "SMTP_USER = os.getenv(\"SMTP_USER\")               # your Gmail address\n",
    "SMTP_PASS = os.getenv(\"SMTP_PASS\")               # 16-char Gmail App Password\n",
    "FROM_EMAIL = os.getenv(\"FROM_EMAIL\", SMTP_USER)\n",
    "\n",
    "OPENAI_KEY = os.getenv(\"OPENAI_API_KEY\")\n",
    "client = OpenAI(api_key=OPENAI_KEY)"
   ]
  },
  {
   "cell_type": "code",
   "execution_count": 3,
   "id": "33f7037a",
   "metadata": {},
   "outputs": [],
   "source": [
    "TIME_RE = re.compile(r\"^(?:[01]\\d|2[0-3]):[0-5]\\d$\")  # strict HH:MM (00-23:00-59)\n",
    "\n",
    "def get_hhmm(s: str) -> str:\n",
    "    s = s.strip()\n",
    "    if not TIME_RE.match(s):\n",
    "        raise ValueError(\"Time must be HH:MM (00–23:00–59)\")\n",
    "    return s\n",
    "\n",
    "# --- Helpers ---\n",
    "def fallback_quote(topic: str) -> str:\n",
    "    t = re.sub(r\"[^A-Za-z0-9 ']\", \"\", topic).strip().capitalize() or \"Life\"\n",
    "    bank = [\n",
    "        \"{t} grows when we give more than we guard.\",\n",
    "        \"In {t}, the quiet choices shape the loudest days.\",\n",
    "        \"{t} is courage choosing kindness again and again.\",\n",
    "        \"When {t} leads, fear forgets its lines.\",\n",
    "        \"{t} makes ordinary moments feel like destiny.\",\n",
    "    ]\n",
    "    return random.choice(bank).format(t=t)\n"
   ]
  },
  {
   "cell_type": "code",
   "execution_count": 4,
   "id": "0ea2f8f4",
   "metadata": {},
   "outputs": [],
   "source": [
    "def generate_quote(topic: str) -> str:\n",
    "    \"\"\"Generate one-sentence quote (<=120 chars) for the topic. Falls back locally if API/quota fails.\"\"\"\n",
    "    prompt = (\n",
    "        f\"Write ONE original, memorable quote about '{topic}'. \"\n",
    "        \"Exactly one sentence, ≤120 characters, no emojis/hashtags/author, \"\n",
    "        \"no surrounding quotation marks. Return only the sentence.\"\n",
    "    )\n",
    "    try:\n",
    "        # Request the AI API for a quote\n",
    "        r = client.responses.create(model=\"gpt-4o-mini\", input=prompt, max_output_tokens=120)\n",
    "        text = (r.output_text or \"\").strip()\n",
    "\n",
    "        # Check if the response is valid (non-empty and meaningful)\n",
    "        if not text or len(text) < 10:  # Can adjust this condition based on expected behavior\n",
    "            print(f\"Generated text is invalid or too short: {text}\")\n",
    "            raise ValueError(\"API response is invalid.\")\n",
    "        \n",
    "    except Exception as e:\n",
    "        print(\"LLM unavailable or invalid response → fallback used:\", str(e)[:120])\n",
    "        text = fallback_quote(topic)\n",
    "\n",
    "    # Clean up any surrounding quotes or invalid characters\n",
    "    text = text.strip().strip('\"\\''\"“”'\")\n",
    "\n",
    "    # Ensure the quote length is <= 120 characters\n",
    "    return text if len(text) <= 120 else (text[:119] + \"…\")"
   ]
  },
  {
   "cell_type": "code",
   "execution_count": 5,
   "id": "c587bf38",
   "metadata": {},
   "outputs": [],
   "source": [
    "def send_email(to: str, subject: str, body: str):\n",
    "    msg = EmailMessage()\n",
    "    msg[\"From\"] = FROM_EMAIL\n",
    "    msg[\"To\"] = to\n",
    "    msg[\"Subject\"] = subject\n",
    "    msg.set_content(body)\n",
    "\n",
    "    if SMTP_PORT == 465:\n",
    "        with smtplib.SMTP_SSL(SMTP_HOST, 465, context=ssl.create_default_context()) as s:\n",
    "            s.login(SMTP_USER, SMTP_PASS)\n",
    "            s.send_message(msg)\n",
    "    else:\n",
    "        with smtplib.SMTP(SMTP_HOST, SMTP_PORT) as s:\n",
    "            s.starttls(context=ssl.create_default_context())\n",
    "            s.login(SMTP_USER, SMTP_PASS)  # Gmail App Password\n",
    "            s.send_message(msg)"
   ]
  },
  {
   "cell_type": "code",
   "execution_count": 6,
   "id": "87596a3d",
   "metadata": {},
   "outputs": [],
   "source": [
    "def get_or_create_user_id(conn, name: str) -> int:\n",
    "    \"\"\"Return existing user's id (case-insensitive match), else insert new user.\"\"\"\n",
    "    cur = conn.cursor()\n",
    "    try:\n",
    "        cur.execute(\"SELECT id FROM users WHERE LOWER(name)=LOWER(%s) ORDER BY id ASC LIMIT 1\", (name,))\n",
    "        row = cur.fetchone()\n",
    "        if row:\n",
    "            return row[0]\n",
    "        cur.execute(\"INSERT INTO users (name) VALUES (%s)\", (name,))\n",
    "        conn.commit()\n",
    "        return cur.lastrowid\n",
    "    finally:\n",
    "        cur.close()"
   ]
  },
  {
   "cell_type": "code",
   "execution_count": 7,
   "id": "20904885",
   "metadata": {},
   "outputs": [],
   "source": [
    "def insert_reminder(conn, user_id: int, subject_topic: str, time_hhmm: str, recipient_email: str) -> int:\n",
    "    cur = conn.cursor()\n",
    "    try:\n",
    "        cur.execute(\n",
    "            \"INSERT INTO reminders (user_id, subject, time_hhmm, recipient_email) \"\n",
    "            \"VALUES (%s, %s, %s, %s)\",\n",
    "            (user_id, subject_topic, time_hhmm, recipient_email),\n",
    "        )\n",
    "        conn.commit()\n",
    "        return cur.lastrowid\n",
    "    finally:\n",
    "        cur.close()"
   ]
  },
  {
   "cell_type": "code",
   "execution_count": 8,
   "id": "5802483f",
   "metadata": {},
   "outputs": [],
   "source": [
    "def send_due_reminders_exact_minute() -> int:\n",
    "    \"\"\"Send only when time_hhmm == current minute. Returns #emails sent.\"\"\"\n",
    "    now_local   = datetime.now(APP_TZ)\n",
    "    hhmm        = now_local.strftime(\"%H:%M\")\n",
    "    today_local = now_local.date()\n",
    "    sent = 0\n",
    "\n",
    "    cn = mysql.connector.connect(**DB)\n",
    "    try:\n",
    "        cur = cn.cursor(dictionary=True)\n",
    "        cur.execute(\"\"\"\n",
    "            SELECT r.id, r.user_id, r.subject, r.time_hhmm, r.recipient_email, u.name\n",
    "            FROM reminders r\n",
    "            JOIN users u ON u.id = r.user_id\n",
    "            WHERE r.time_hhmm = %s AND COALESCE(r.recipient_email,'') <> ''\n",
    "        \"\"\", (hhmm,))\n",
    "        due = cur.fetchall()\n",
    "\n",
    "        print(f\"[{now_local}] hhmm={hhmm} exact matches={len(due)}\")\n",
    "\n",
    "        for row in due:\n",
    "            # once-per-day protection\n",
    "            cur.execute(\n",
    "                \"SELECT 1 FROM reminder_deliveries WHERE reminder_id=%s AND delivered_on=%s LIMIT 1\",\n",
    "                (row[\"id\"], today_local),\n",
    "            )\n",
    "            if cur.fetchone():\n",
    "                continue\n",
    "\n",
    "            topic = row[\"subject\"]\n",
    "            quote = generate_quote(topic)\n",
    "            body  = f\"Hi {row['name']}\\n\\n{quote}\"\n",
    "            try:\n",
    "                send_email(row[\"recipient_email\"], topic, body)\n",
    "                cur.execute(\n",
    "                    \"INSERT INTO reminder_deliveries (reminder_id, delivered_on) VALUES (%s, %s)\",\n",
    "                    (row[\"id\"], today_local),\n",
    "                )\n",
    "                cn.commit()\n",
    "                sent += 1\n",
    "                print(f\"📧 sent reminder {row['id']} to {row['recipient_email']} at {hhmm}\")\n",
    "                \n",
    "            except Exception as e:\n",
    "                cn.rollback()\n",
    "                print(f\"❌ send failed for reminder {row['id']}: {e}\")\n",
    "    finally:\n",
    "        cn.close()\n",
    "    return sent\n"
   ]
  },
  {
   "cell_type": "code",
   "execution_count": 9,
   "id": "81a8ffb2",
   "metadata": {},
   "outputs": [
    {
     "name": "stdout",
     "output_type": "stream",
     "text": [
      "Enter details for a new reminder (subject is the TOPIC; quote will be emailed at send time).\n",
      "✅ Saved reminder #28 for user #4 (topic='Money', time=19:22)\n"
     ]
    }
   ],
   "source": [
    "print(\"Enter details for a new reminder (subject is the TOPIC; quote will be emailed at send time).\")\n",
    "name        = input(\"Name: \").strip()\n",
    "subject     = input(\"Topic (saved as subject): \").strip()\n",
    "time_hhmm   = get_hhmm(input(\"Time (HH:MM 24h): \"))\n",
    "recipient   = input(\"Recipient email: \").strip()\n",
    "\n",
    "conn = mysql.connector.connect(**DB)\n",
    "try:\n",
    "    user_id = get_or_create_user_id(conn, name)             # only creates user if new\n",
    "    reminder_id = insert_reminder(conn, user_id, subject, time_hhmm, recipient)\n",
    "    print(f\"✅ Saved reminder #{reminder_id} for user #{user_id} (topic='{subject}', time={time_hhmm})\")\n",
    "finally:\n",
    "    conn.close() "
   ]
  },
  {
   "cell_type": "code",
   "execution_count": 10,
   "id": "0e02f44b",
   "metadata": {},
   "outputs": [],
   "source": [
    "def run_exact_minute_loop(stop_after_first_send: bool = False, max_runtime_minutes: int | None = None):\n",
    "    \"\"\"Minute-precise loop. If stop_after_first_send=True, exits after first successful send.\"\"\"\n",
    "    start = datetime.now(APP_TZ)\n",
    "    print(f\"Exact-minute scheduler running (APP_TZ={APP_TZ}). Ctrl+C to stop.\")\n",
    "    while True:\n",
    "        # sleep to next :00\n",
    "        now = datetime.now(APP_TZ)\n",
    "        next_minute = (now.replace(second=0, microsecond=0) + timedelta(minutes=1))\n",
    "        time.sleep(max(0.5, (next_minute - now).total_seconds()))\n",
    "        sent = send_due_reminders_exact_minute()\n",
    "        if stop_after_first_send and sent > 0:\n",
    "            print(\"✅ First send done — stopping loop.\")\n",
    "            break\n",
    "        if max_runtime_minutes is not None and (datetime.now(APP_TZ) - start).total_seconds() > max_runtime_minutes*60:\n",
    "            print(\"⏱️ Max runtime reached — stopping loop.\")\n",
    "            break"
   ]
  },
  {
   "cell_type": "code",
   "execution_count": 11,
   "id": "d448c05f",
   "metadata": {},
   "outputs": [
    {
     "name": "stdout",
     "output_type": "stream",
     "text": [
      "Exact-minute scheduler running (APP_TZ=Asia/Kolkata). Ctrl+C to stop.\n",
      "[2025-09-16 19:22:00.000771+05:30] hhmm=19:22 exact matches=1\n",
      "📧 sent reminder 28 to jomfolives651@gmail.com at 19:22\n",
      "✅ First send done — stopping loop.\n"
     ]
    }
   ],
   "source": [
    "run_exact_minute_loop(stop_after_first_send=True)"
   ]
  }
 ],
 "metadata": {
  "kernelspec": {
   "display_name": "Python 3",
   "language": "python",
   "name": "python3"
  },
  "language_info": {
   "codemirror_mode": {
    "name": "ipython",
    "version": 3
   },
   "file_extension": ".py",
   "mimetype": "text/x-python",
   "name": "python",
   "nbconvert_exporter": "python",
   "pygments_lexer": "ipython3",
   "version": "3.12.4"
  }
 },
 "nbformat": 4,
 "nbformat_minor": 5
}
